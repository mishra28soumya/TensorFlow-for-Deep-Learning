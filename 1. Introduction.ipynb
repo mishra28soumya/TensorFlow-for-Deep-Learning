{
  "nbformat": 4,
  "nbformat_minor": 0,
  "metadata": {
    "colab": {
      "name": "Introduction.ipynb",
      "provenance": [],
      "authorship_tag": "ABX9TyMvM9hGUZWbcYdBXWb+4PpU",
      "include_colab_link": true
    },
    "kernelspec": {
      "name": "python3",
      "display_name": "Python 3"
    }
  },
  "cells": [
    {
      "cell_type": "markdown",
      "metadata": {
        "id": "view-in-github",
        "colab_type": "text"
      },
      "source": [
        "<a href=\"https://colab.research.google.com/github/mishra28soumya/TensorFlow-for-Deep-Learning/blob/master/Introduction.ipynb\" target=\"_parent\"><img src=\"https://colab.research.google.com/assets/colab-badge.svg\" alt=\"Open In Colab\"/></a>"
      ]
    },
    {
      "cell_type": "markdown",
      "metadata": {
        "id": "ZgEJVEuTo7WJ",
        "colab_type": "text"
      },
      "source": [
        "**Numpy and lists**"
      ]
    },
    {
      "cell_type": "markdown",
      "metadata": {
        "id": "YpDL3pPSpG1Q",
        "colab_type": "text"
      },
      "source": [
        "Python has lists build into the language. However we use a library called numpy. Numpy gives lots of support functions that are useful when doing Machine Learning\n"
      ]
    },
    {
      "cell_type": "code",
      "metadata": {
        "id": "1o_klJMQpcjy",
        "colab_type": "code",
        "outputId": "8699b16a-1a4e-43ee-c3c2-376eb7171f88",
        "colab": {
          "base_uri": "https://localhost:8080/",
          "height": 168
        }
      },
      "source": [
        "import numpy as np\n",
        "\n",
        "a = np.array([\"Hello\", \"World\"])\n",
        "a = np.append(a, \"!\")\n",
        "print(\"Printing each element\")\n",
        "for i in a:\n",
        "  print(i)\n",
        "\n",
        "print(\"\\nPrinting each element and their index\")\n",
        "for i,e in enumerate(a):\n",
        "  print(\"Index: {}, was: {}\".format(i,e))"
      ],
      "execution_count": 0,
      "outputs": [
        {
          "output_type": "stream",
          "text": [
            "Printing each element\n",
            "Hello\n",
            "World\n",
            "!\n",
            "\n",
            "Printing each element and their index\n",
            "Index: 0, was: Hello\n",
            "Index: 1, was: World\n",
            "Index: 2, was: !\n"
          ],
          "name": "stdout"
        }
      ]
    },
    {
      "cell_type": "code",
      "metadata": {
        "id": "03zvyU4kqE2k",
        "colab_type": "code",
        "outputId": "42ec0ed2-2ac6-4bcc-ed4d-77a29d948ac1",
        "colab": {
          "base_uri": "https://localhost:8080/",
          "height": 101
        }
      },
      "source": [
        "print(\"\\nShowing some basic math on arrays\")\n",
        "b = np.array([0,1,2,3,4,5])\n",
        "print(\"Max: {}\".format(np.max(b)))\n",
        "print(\"Max index: {}\".format(np.argmax(b)))\n",
        "print(\"Avg: {}\".format(np.average(b)))"
      ],
      "execution_count": 0,
      "outputs": [
        {
          "output_type": "stream",
          "text": [
            "\n",
            "Showing some basic math on arrays\n",
            "Max: 5\n",
            "Max index: 5\n",
            "Avg: 2.5\n"
          ],
          "name": "stdout"
        }
      ]
    },
    {
      "cell_type": "markdown",
      "metadata": {
        "id": "DWLrmBqnzLhT",
        "colab_type": "text"
      },
      "source": [
        "**Colab Specifics**"
      ]
    },
    {
      "cell_type": "markdown",
      "metadata": {
        "id": "NOBfBBKhzUN6",
        "colab_type": "text"
      },
      "source": [
        "Colab is a virtual machine you can access directly. To run commands at the VM's terminal, prefix the line with an exclamation point(!)."
      ]
    },
    {
      "cell_type": "code",
      "metadata": {
        "id": "irXuePqkzkkR",
        "colab_type": "code",
        "outputId": "20b9c7ea-9afa-467d-deda-f741447492bb",
        "colab": {
          "base_uri": "https://localhost:8080/",
          "height": 84
        }
      },
      "source": [
        "print(\"Commands\")\n",
        "!ls -l\n",
        "!pwd"
      ],
      "execution_count": 0,
      "outputs": [
        {
          "output_type": "stream",
          "text": [
            "Commands\n",
            "total 4\n",
            "drwxr-xr-x 1 root root 4096 Jan 30 17:25 sample_data\n",
            "/content\n"
          ],
          "name": "stdout"
        }
      ]
    },
    {
      "cell_type": "code",
      "metadata": {
        "id": "gm_KBhRtzw5k",
        "colab_type": "code",
        "outputId": "5075d292-a5a4-406f-9ae3-9fdab0597307",
        "colab": {
          "base_uri": "https://localhost:8080/",
          "height": 50
        }
      },
      "source": [
        "print(\"Install numpy\") #Just for test, numpy is actually preinstalled in all colab instances\n",
        "!pip install numpy"
      ],
      "execution_count": 0,
      "outputs": [
        {
          "output_type": "stream",
          "text": [
            "Install numpy\n",
            "Requirement already satisfied: numpy in /usr/local/lib/python3.6/dist-packages (1.17.5)\n"
          ],
          "name": "stdout"
        }
      ]
    }
  ]
}
